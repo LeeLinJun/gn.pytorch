{
 "cells": [
  {
   "cell_type": "code",
   "execution_count": 1,
   "metadata": {
    "collapsed": true
   },
   "outputs": [],
   "source": [
    "import torch.utils.data as data\n",
    "from torch.utils.data import DataLoader\n",
    "import numpy as np\n",
    "import networkx as nx\n",
    "import torch.optim as optim\n",
    "import matplotlib.pyplot as plt\n",
    "from gn_models import init_graph_features, FFGN\n",
    "import torch\n",
    "from tensorboardX import SummaryWriter\n",
    "from datetime import datetime\n",
    "import os\n",
    "import sys\n",
    "from scipy.stats import pearsonr\n",
    "from train_gn import SwimmerDataset\n",
    "from PIL import Image\n",
    "import imageio\n",
    "from utils import *\n",
    "import argparse\n",
    "%matplotlib inline"
   ]
  },
  {
   "cell_type": "code",
   "execution_count": 2,
   "metadata": {
    "collapsed": true
   },
   "outputs": [],
   "source": [
    "def evaluate_graph_loss(G, state, last_state):\n",
    "    n_nodes = len(G)\n",
    "\n",
    "    dpos = state[:, 5:5 + 18].view(-1, 6, 3)\n",
    "    dvel = state[:, 5+18:5 + 18+18].view(-1, 6, 3)\n",
    "\n",
    "    last_pos = last_state[:, 5:5 + 18].view(-1, 6, 3)\n",
    "    vel = state[:, 5 + 18:5 + 36].view(-1, 6, 3)\n",
    "    mean = 0\n",
    "\n",
    "    true = []\n",
    "    pred = []\n",
    "\n",
    "    for node in G.nodes():\n",
    "        #print(node)\n",
    "        #loss += torch.mean((G.nodes[node]['feat'][:,:3] - pos[:,node]) ** 2)\n",
    "        #loss += torch.mean((G.nodes[node]['feat'][:, 3:] - vel[:, node]) ** 2)\n",
    "        mean += torch.mean(torch.abs((G.nodes[node]['feat'][:,:3] - dpos[:,node]) / dpos[:,node] ))\n",
    "        pred.append(G.nodes[node]['feat'][:,:3])\n",
    "        true.append(dpos[:,node])\n",
    "        \n",
    "        pred.append(G.nodes[node]['feat'][:,3:])\n",
    "        true.append(dvel[:,node])\n",
    "        \n",
    "        \n",
    "\n",
    "    pred = torch.stack(pred).view(-1,1)\n",
    "    true = torch.stack(true).view(-1,1)\n",
    "\n",
    "    plt.figure()\n",
    "    for node in G.nodes():\n",
    "        pos = last_pos[0, node, :3].cpu().data.numpy()\n",
    "\n",
    "        angle = pos[2]\n",
    "        x = pos[0]\n",
    "        y = pos[1]\n",
    "        r = 0.05\n",
    "        dy = np.cos(angle) * r\n",
    "        dx = - np.sin(angle) * r\n",
    "        # plt.figure()\n",
    "        plt.plot([x - dx, x + dx], [y - dy, y + dy], 'g', alpha = 0.5)\n",
    "\n",
    "        pos = G.nodes[node]['feat'][0,:3].cpu().data.numpy() + last_pos[0,node,:3].cpu().data.numpy()\n",
    "        angle = pos[2]\n",
    "        x = pos[0]\n",
    "        y = pos[1]\n",
    "        r = 0.05\n",
    "        dy = np.cos(angle) * r\n",
    "        dx = - np.sin(angle) * r\n",
    "        # plt.figure()\n",
    "        plt.plot([x - dx, x + dx], [y - dy, y + dy],'r', alpha = 0.5)\n",
    "        pos = dpos[0,node].cpu().data.numpy() + last_pos[0, node, :3].cpu().data.numpy()\n",
    "\n",
    "        angle = pos[2]\n",
    "        x = pos[0]\n",
    "        y = pos[1]\n",
    "        r = 0.05\n",
    "        dy = np.cos(angle) * r\n",
    "        dx = - np.sin(angle) * r\n",
    "        # plt.figure()\n",
    "        plt.plot([x - dx, x + dx], [y - dy, y + dy],'b', alpha = 0.5)\n",
    "    plt.axis('equal')\n",
    "    #plt.show()\n",
    "\n",
    "    mean /= n_nodes\n",
    "\n",
    "    return mean.data.item(), true, pred"
   ]
  },
  {
   "cell_type": "code",
   "execution_count": 3,
   "metadata": {
    "collapsed": true
   },
   "outputs": [],
   "source": [
    "def get_graph_features(G, bs = 1):\n",
    "    state = torch.zeros((bs, 41)).cuda()\n",
    "    \n",
    "    #joints = state[:,:5]\n",
    "    pos = torch.zeros((bs, 6, 3)).cuda()\n",
    "    vel = torch.zeros((bs, 6, 3)).cuda()\n",
    "    \n",
    "    # only get node features\n",
    "    for node in G.nodes():\n",
    "        #print(node)\n",
    "        pos[:,node] = G.nodes[node]['feat'][:,:3]\n",
    "        vel[:, node] = G.nodes[node]['feat'][:, 3:]\n",
    "\n",
    "        \n",
    "    state[:, 5:5+18] = pos.view(-1, 18)\n",
    "    state[:, 5+18:5+36] = pos.view(-1,18)\n",
    "    return state\n"
   ]
  },
  {
   "cell_type": "code",
   "execution_count": 4,
   "metadata": {
    "collapsed": true
   },
   "outputs": [],
   "source": [
    "model_fn = '/home/fei/Development/physics_predmodel/gn/logs/runs/October01_14:59:16/model_1240000.pth'\n",
    "dset = SwimmerDataset('swimmer_test.npy')\n",
    "use_cuda = True\n",
    "dl = DataLoader(dset, batch_size=200, num_workers=0, drop_last=True)\n",
    "node_feat_size = 6\n",
    "edge_feat_size = 3\n",
    "graph_feat_size = 10\n",
    "gn = FFGN(graph_feat_size, node_feat_size, edge_feat_size).cuda()\n",
    "gn.load_state_dict(torch.load(model_fn))\n",
    "\n",
    "normalizers = torch.load('normalize.pth')\n",
    "in_normalizer = normalizers['in_normalizer']\n",
    "out_normalizer = normalizers['out_normalizer']"
   ]
  },
  {
   "cell_type": "code",
   "execution_count": 5,
   "metadata": {
    "collapsed": true
   },
   "outputs": [],
   "source": [
    "G1 = nx.path_graph(6).to_directed()"
   ]
  },
  {
   "cell_type": "code",
   "execution_count": 6,
   "metadata": {
    "collapsed": true
   },
   "outputs": [],
   "source": [
    "dl_e = enumerate(dl)"
   ]
  },
  {
   "cell_type": "code",
   "execution_count": 11,
   "metadata": {
    "collapsed": true
   },
   "outputs": [],
   "source": [
    "data = dset.__get_episode__(360)\n",
    "data = [torch.from_numpy(item) for item in data]"
   ]
  },
  {
   "cell_type": "code",
   "execution_count": 12,
   "metadata": {},
   "outputs": [
    {
     "data": {
      "text/plain": [
       "<matplotlib.collections.PathCollection at 0x7f97b89ee5f8>"
      ]
     },
     "execution_count": 12,
     "metadata": {},
     "output_type": "execute_result"
    },
    {
     "data": {
      "image/png": "[encoded data removed]",
      "text/plain": [
       "<Figure size 432x288 with 1 Axes>"
      ]
     },
     "metadata": {},
     "output_type": "display_data"
    },
    {
     "data": {
      "image/png": "[encoded data removed]",
      "text/plain": [
       "<Figure size 432x288 with 1 Axes>"
      ]
     },
     "metadata": {},
     "output_type": "display_data"
    }
   ],
   "source": [
    "action, delta_state, last_state = data\n",
    "action, delta_state, last_state = action.float(), delta_state.float(), last_state.float()\n",
    "\n",
    "if use_cuda:\n",
    "    action, delta_state, last_state = action.cuda(), delta_state.cuda(), last_state.cuda()\n",
    "\n",
    "\n",
    "init_graph_features(G1, graph_feat_size, node_feat_size, edge_feat_size, cuda=True, bs = 100)\n",
    "load_graph_features(G1, action, last_state, None,bs=100, noise = 0)\n",
    "G_out = gn(in_normalizer.normalize(G1))\n",
    "G_out = out_normalizer.inormalize(G_out)\n",
    "loss, true, pred = evaluate_graph_loss(G_out, delta_state, last_state)\n",
    "\n",
    "true = true.data.cpu().numpy()\n",
    "pred = pred.data.cpu().numpy()\n",
    "\n",
    "plt.figure()\n",
    "plt.scatter(true, pred, s = 2, alpha = 0.7)"
   ]
  },
  {
   "cell_type": "code",
   "execution_count": 13,
   "metadata": {
    "collapsed": true
   },
   "outputs": [],
   "source": [
    "def fig2img ( fig ):\n",
    "    \"\"\"\n",
    "    @brief Convert a Matplotlib figure to a PIL Image in RGBA format and return it\n",
    "    @param fig a matplotlib figure\n",
    "    @return a Python Imaging Library ( PIL ) image\n",
    "    \"\"\"\n",
    "    # put the figure pixmap into a numpy array\n",
    "    buf = fig2data ( fig )\n",
    "    w, h, d = buf.shape\n",
    "    plt.close()\n",
    "    return np.array(Image.frombytes( \"RGBA\", ( w ,h ), buf.tostring( ) ) )\n",
    "\n",
    "def fig2data(fig):\n",
    "    \"\"\"\n",
    "    @brief Convert a Matplotlib figure to a 4D numpy array with RGBA channels and return it\n",
    "    @param fig a matplotlib figure\n",
    "    @return a numpy 3D array of RGBA values\n",
    "    \"\"\"\n",
    "    # draw the renderer\n",
    "    fig.canvas.draw()\n",
    "\n",
    "    # Get the RGBA buffer from the figure\n",
    "    w, h = fig.canvas.get_width_height()\n",
    "    buf = np.frombuffer(fig.canvas.tostring_argb(), dtype=np.uint8)\n",
    "    buf.shape = (w, h, 4)\n",
    "\n",
    "    # canvas.tostring_argb give pixmap in ARGB mode. Roll the ALPHA channel to have it in RGBA mode\n",
    "    buf = np.roll(buf, 3, axis=2)\n",
    "    return buf\n",
    "\n",
    "def draw_state(state):\n",
    "    state = state.cpu().data.numpy()[0]\n",
    "    positions = state[5:5+18].reshape(6,3)\n",
    " \n",
    "    fig = plt.figure()\n",
    "\n",
    "    for node in range(6):\n",
    "        pos = positions[node]\n",
    "        angle = pos[2]\n",
    "        x = pos[0]\n",
    "        y = pos[1]\n",
    "        r = 0.05\n",
    "        dy = np.cos(angle) * r\n",
    "        dx = - np.sin(angle) * r\n",
    "        plt.plot([x - dx, x + dx], [y - dy, y + dy], 'g', alpha = 0.5)\n",
    "\n",
    "        plt.axis('equal')\n",
    "        \n",
    "    \n",
    "    img = fig2img(fig)\n",
    "    plt.close()    \n",
    "    return img"
   ]
  },
  {
   "cell_type": "code",
   "execution_count": 14,
   "metadata": {},
   "outputs": [
    {
     "name": "stdout",
     "output_type": "stream",
     "text": [
      "1\n",
      "2\n",
      "3\n",
      "4\n",
      "5\n",
      "6\n",
      "7\n",
      "8\n",
      "9\n",
      "10\n",
      "11\n",
      "12\n",
      "13\n",
      "14\n",
      "15\n",
      "16\n",
      "17\n",
      "18\n",
      "19\n",
      "20\n",
      "21\n",
      "22\n",
      "23\n",
      "24\n",
      "25\n",
      "26\n",
      "27\n",
      "28\n",
      "29\n",
      "30\n",
      "31\n",
      "32\n",
      "33\n",
      "34\n",
      "35\n",
      "36\n",
      "37\n",
      "38\n",
      "39\n",
      "40\n",
      "41\n",
      "42\n",
      "43\n",
      "44\n",
      "45\n",
      "46\n",
      "47\n",
      "48\n",
      "49\n"
     ]
    }
   ],
   "source": [
    "writer = imageio.get_writer('test_pred2.mp4', fps=6)\n",
    "action, delta_state, last_state = data\n",
    "action, delta_state, last_state = action.float(), delta_state.float(), last_state.float()\n",
    "\n",
    "if use_cuda:\n",
    "    action, delta_state, last_state = action.cuda(), delta_state.cuda(), last_state.cuda()\n",
    "    \n",
    "state = last_state[1].unsqueeze(0)\n",
    "state_gt = last_state[1].unsqueeze(0).clone()\n",
    "\n",
    "for i in range(1, 50):\n",
    "    print(i)\n",
    "    action_i = action[i].unsqueeze(0)\n",
    "    delta_state_i = delta_state[i].unsqueeze(0)\n",
    "    last_state_i = last_state[i].unsqueeze(0)\n",
    "    \n",
    "    init_graph_features(G1, graph_feat_size, node_feat_size, edge_feat_size, cuda=True, bs = 1)\n",
    "    load_graph_features(G1, action_i, state, None, bs=1, noise = 0)\n",
    "    G_out = gn(in_normalizer.normalize(G1))\n",
    "    G_out = out_normalizer.inormalize(G_out)\n",
    "    \n",
    "    delta_state_pred = get_graph_features(G_out)\n",
    "    \n",
    "    state_gt += delta_state_i\n",
    "    state += delta_state_pred\n",
    "\n",
    "    img = draw_state(state_gt)\n",
    "    img_pred = draw_state(state)\n",
    "    \n",
    "    writer.append_data(np.concatenate([img, img_pred], axis = 1))\n",
    "\n",
    "writer.close()"
   ]
  },
  {
   "cell_type": "code",
   "execution_count": null,
   "metadata": {
    "collapsed": true
   },
   "outputs": [],
   "source": []
  }
 ],
 "metadata": {
  "kernelspec": {
   "display_name": "Python (py35)",
   "language": "python",
   "name": "py35"
  },
  "language_info": {
   "codemirror_mode": {
    "name": "ipython",
    "version": 3
   },
   "file_extension": ".py",
   "mimetype": "text/x-python",
   "name": "python",
   "nbconvert_exporter": "python",
   "pygments_lexer": "ipython3",
   "version": "3.5.4"
  }
 },
 "nbformat": 4,
 "nbformat_minor": 2
}
